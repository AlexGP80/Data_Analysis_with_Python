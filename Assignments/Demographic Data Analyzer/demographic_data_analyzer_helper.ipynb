{
 "cells": [
  {
   "cell_type": "code",
   "execution_count": 1,
   "id": "a72f0003-9e79-4fd4-b7c7-30aa4df8cd27",
   "metadata": {},
   "outputs": [],
   "source": [
    "import numpy as np\n",
    "import pandas as pd"
   ]
  },
  {
   "cell_type": "code",
   "execution_count": 2,
   "id": "f9935562-b4ac-4ac3-bcc1-80925efd60af",
   "metadata": {},
   "outputs": [],
   "source": [
    "df = pd.read_csv(\"adult.data.csv\")"
   ]
  },
  {
   "cell_type": "code",
   "execution_count": 3,
   "id": "9deb707a-4cf1-4552-b6b8-7dbb63719f57",
   "metadata": {},
   "outputs": [
    {
     "name": "stdout",
     "output_type": "stream",
     "text": [
      "<class 'pandas.core.frame.DataFrame'>\n",
      "RangeIndex: 32561 entries, 0 to 32560\n",
      "Data columns (total 15 columns):\n",
      " #   Column          Non-Null Count  Dtype \n",
      "---  ------          --------------  ----- \n",
      " 0   age             32561 non-null  int64 \n",
      " 1   workclass       32561 non-null  object\n",
      " 2   fnlwgt          32561 non-null  int64 \n",
      " 3   education       32561 non-null  object\n",
      " 4   education-num   32561 non-null  int64 \n",
      " 5   marital-status  32561 non-null  object\n",
      " 6   occupation      32561 non-null  object\n",
      " 7   relationship    32561 non-null  object\n",
      " 8   race            32561 non-null  object\n",
      " 9   sex             32561 non-null  object\n",
      " 10  capital-gain    32561 non-null  int64 \n",
      " 11  capital-loss    32561 non-null  int64 \n",
      " 12  hours-per-week  32561 non-null  int64 \n",
      " 13  native-country  32561 non-null  object\n",
      " 14  salary          32561 non-null  object\n",
      "dtypes: int64(6), object(9)\n",
      "memory usage: 3.7+ MB\n"
     ]
    }
   ],
   "source": [
    "df.info()"
   ]
  },
  {
   "cell_type": "code",
   "execution_count": 5,
   "id": "de05b752-3588-46ac-8203-d6a9da1f73fd",
   "metadata": {},
   "outputs": [
    {
     "data": {
      "text/plain": [
       "(32561, 15)"
      ]
     },
     "execution_count": 5,
     "metadata": {},
     "output_type": "execute_result"
    }
   ],
   "source": [
    "df.shape"
   ]
  },
  {
   "cell_type": "code",
   "execution_count": 6,
   "id": "9bcbce29-8145-483a-af23-a8e9e9154df7",
   "metadata": {},
   "outputs": [
    {
     "data": {
      "text/html": [
       "<div>\n",
       "<style scoped>\n",
       "    .dataframe tbody tr th:only-of-type {\n",
       "        vertical-align: middle;\n",
       "    }\n",
       "\n",
       "    .dataframe tbody tr th {\n",
       "        vertical-align: top;\n",
       "    }\n",
       "\n",
       "    .dataframe thead th {\n",
       "        text-align: right;\n",
       "    }\n",
       "</style>\n",
       "<table border=\"1\" class=\"dataframe\">\n",
       "  <thead>\n",
       "    <tr style=\"text-align: right;\">\n",
       "      <th></th>\n",
       "      <th>age</th>\n",
       "      <th>workclass</th>\n",
       "      <th>fnlwgt</th>\n",
       "      <th>education</th>\n",
       "      <th>education-num</th>\n",
       "      <th>marital-status</th>\n",
       "      <th>occupation</th>\n",
       "      <th>relationship</th>\n",
       "      <th>race</th>\n",
       "      <th>sex</th>\n",
       "      <th>capital-gain</th>\n",
       "      <th>capital-loss</th>\n",
       "      <th>hours-per-week</th>\n",
       "      <th>native-country</th>\n",
       "      <th>salary</th>\n",
       "    </tr>\n",
       "  </thead>\n",
       "  <tbody>\n",
       "    <tr>\n",
       "      <th>0</th>\n",
       "      <td>39</td>\n",
       "      <td>State-gov</td>\n",
       "      <td>77516</td>\n",
       "      <td>Bachelors</td>\n",
       "      <td>13</td>\n",
       "      <td>Never-married</td>\n",
       "      <td>Adm-clerical</td>\n",
       "      <td>Not-in-family</td>\n",
       "      <td>White</td>\n",
       "      <td>Male</td>\n",
       "      <td>2174</td>\n",
       "      <td>0</td>\n",
       "      <td>40</td>\n",
       "      <td>United-States</td>\n",
       "      <td>&lt;=50K</td>\n",
       "    </tr>\n",
       "    <tr>\n",
       "      <th>1</th>\n",
       "      <td>50</td>\n",
       "      <td>Self-emp-not-inc</td>\n",
       "      <td>83311</td>\n",
       "      <td>Bachelors</td>\n",
       "      <td>13</td>\n",
       "      <td>Married-civ-spouse</td>\n",
       "      <td>Exec-managerial</td>\n",
       "      <td>Husband</td>\n",
       "      <td>White</td>\n",
       "      <td>Male</td>\n",
       "      <td>0</td>\n",
       "      <td>0</td>\n",
       "      <td>13</td>\n",
       "      <td>United-States</td>\n",
       "      <td>&lt;=50K</td>\n",
       "    </tr>\n",
       "    <tr>\n",
       "      <th>2</th>\n",
       "      <td>38</td>\n",
       "      <td>Private</td>\n",
       "      <td>215646</td>\n",
       "      <td>HS-grad</td>\n",
       "      <td>9</td>\n",
       "      <td>Divorced</td>\n",
       "      <td>Handlers-cleaners</td>\n",
       "      <td>Not-in-family</td>\n",
       "      <td>White</td>\n",
       "      <td>Male</td>\n",
       "      <td>0</td>\n",
       "      <td>0</td>\n",
       "      <td>40</td>\n",
       "      <td>United-States</td>\n",
       "      <td>&lt;=50K</td>\n",
       "    </tr>\n",
       "    <tr>\n",
       "      <th>3</th>\n",
       "      <td>53</td>\n",
       "      <td>Private</td>\n",
       "      <td>234721</td>\n",
       "      <td>11th</td>\n",
       "      <td>7</td>\n",
       "      <td>Married-civ-spouse</td>\n",
       "      <td>Handlers-cleaners</td>\n",
       "      <td>Husband</td>\n",
       "      <td>Black</td>\n",
       "      <td>Male</td>\n",
       "      <td>0</td>\n",
       "      <td>0</td>\n",
       "      <td>40</td>\n",
       "      <td>United-States</td>\n",
       "      <td>&lt;=50K</td>\n",
       "    </tr>\n",
       "    <tr>\n",
       "      <th>4</th>\n",
       "      <td>28</td>\n",
       "      <td>Private</td>\n",
       "      <td>338409</td>\n",
       "      <td>Bachelors</td>\n",
       "      <td>13</td>\n",
       "      <td>Married-civ-spouse</td>\n",
       "      <td>Prof-specialty</td>\n",
       "      <td>Wife</td>\n",
       "      <td>Black</td>\n",
       "      <td>Female</td>\n",
       "      <td>0</td>\n",
       "      <td>0</td>\n",
       "      <td>40</td>\n",
       "      <td>Cuba</td>\n",
       "      <td>&lt;=50K</td>\n",
       "    </tr>\n",
       "  </tbody>\n",
       "</table>\n",
       "</div>"
      ],
      "text/plain": [
       "   age         workclass  fnlwgt  education  education-num  \\\n",
       "0   39         State-gov   77516  Bachelors             13   \n",
       "1   50  Self-emp-not-inc   83311  Bachelors             13   \n",
       "2   38           Private  215646    HS-grad              9   \n",
       "3   53           Private  234721       11th              7   \n",
       "4   28           Private  338409  Bachelors             13   \n",
       "\n",
       "       marital-status         occupation   relationship   race     sex  \\\n",
       "0       Never-married       Adm-clerical  Not-in-family  White    Male   \n",
       "1  Married-civ-spouse    Exec-managerial        Husband  White    Male   \n",
       "2            Divorced  Handlers-cleaners  Not-in-family  White    Male   \n",
       "3  Married-civ-spouse  Handlers-cleaners        Husband  Black    Male   \n",
       "4  Married-civ-spouse     Prof-specialty           Wife  Black  Female   \n",
       "\n",
       "   capital-gain  capital-loss  hours-per-week native-country salary  \n",
       "0          2174             0              40  United-States  <=50K  \n",
       "1             0             0              13  United-States  <=50K  \n",
       "2             0             0              40  United-States  <=50K  \n",
       "3             0             0              40  United-States  <=50K  \n",
       "4             0             0              40           Cuba  <=50K  "
      ]
     },
     "execution_count": 6,
     "metadata": {},
     "output_type": "execute_result"
    }
   ],
   "source": [
    "df.head()"
   ]
  },
  {
   "cell_type": "code",
   "execution_count": 12,
   "id": "50418879-14d7-42c0-a3c6-ffd965ac8b1d",
   "metadata": {},
   "outputs": [
    {
     "data": {
      "text/plain": [
       "White                 27816\n",
       "Black                  3124\n",
       "Asian-Pac-Islander     1039\n",
       "Amer-Indian-Eskimo      311\n",
       "Other                   271\n",
       "Name: race, dtype: int64"
      ]
     },
     "execution_count": 12,
     "metadata": {},
     "output_type": "execute_result"
    }
   ],
   "source": [
    "df['race'].value_counts()"
   ]
  },
  {
   "cell_type": "code",
   "execution_count": 40,
   "id": "26f51800-0331-4cc0-b16e-6f6a7fa88dd5",
   "metadata": {},
   "outputs": [
    {
     "data": {
      "text/plain": [
       "39.4"
      ]
     },
     "execution_count": 40,
     "metadata": {},
     "output_type": "execute_result"
    }
   ],
   "source": [
    "round(df.loc[df['sex'] == 'Male','age'].mean(), 1)"
   ]
  },
  {
   "cell_type": "code",
   "execution_count": 44,
   "id": "94d48d96-1154-4933-9aeb-33673197467b",
   "metadata": {},
   "outputs": [
    {
     "data": {
      "text/plain": [
       "16.4"
      ]
     },
     "execution_count": 44,
     "metadata": {},
     "output_type": "execute_result"
    }
   ],
   "source": [
    "round(100 * df.loc[df['education']=='Bachelors', 'age'].count() / df['age'].count(), 1)"
   ]
  },
  {
   "cell_type": "code",
   "execution_count": 75,
   "id": "16336508-4060-4f96-9370-024fa3894ac4",
   "metadata": {},
   "outputs": [
    {
     "data": {
      "text/plain": [
       "46.5"
      ]
     },
     "execution_count": 75,
     "metadata": {},
     "output_type": "execute_result"
    }
   ],
   "source": [
    "    higher_education = df.loc[df['education'].isin(['Bachelors', 'Masters', 'Doctorate'])]\n",
    "    higher_education_rich = round(100 * len(higher_education.loc[higher_education['salary']=='>50K']) / len(higher_education), 1)\n",
    "    higher_education_rich\n"
   ]
  },
  {
   "cell_type": "code",
   "execution_count": 77,
   "id": "8c67993f-2b68-4202-a12b-4e94c149f7d7",
   "metadata": {},
   "outputs": [
    {
     "data": {
      "text/plain": [
       "17.4"
      ]
     },
     "execution_count": 77,
     "metadata": {},
     "output_type": "execute_result"
    }
   ],
   "source": [
    "lower_education = df.loc[~df['education'].isin(['Bachelors', 'Masters', 'Doctorate'])]\n",
    "lower_education_rich = round(100 * len(lower_education.loc[lower_education['salary']=='>50K']) / len(lower_education), 1)\n",
    "lower_education_rich"
   ]
  },
  {
   "cell_type": "code",
   "execution_count": 79,
   "id": "361dd940-d82f-41ec-be40-830129b3ddd0",
   "metadata": {},
   "outputs": [],
   "source": [
    "min_work_hours = df['hours-per-week'].min()"
   ]
  },
  {
   "cell_type": "code",
   "execution_count": 87,
   "id": "6a731826-e8ec-4c83-94f2-9da868317d2c",
   "metadata": {},
   "outputs": [
    {
     "data": {
      "text/plain": [
       "10.0"
      ]
     },
     "execution_count": 87,
     "metadata": {},
     "output_type": "execute_result"
    }
   ],
   "source": [
    "min_workers = df.loc[df['hours-per-week']==df['hours-per-week'].min()]\n",
    "rich = min_workers.loc[min_workers['salary']=='>50K']\n",
    "rich_percentage = round(100 * len(rich) / len(min_workers), 1)"
   ]
  },
  {
   "cell_type": "code",
   "execution_count": 92,
   "id": "4d9c1d68-140b-4ad5-b58c-3fc90e7888dd",
   "metadata": {},
   "outputs": [
    {
     "data": {
      "text/plain": [
       "native-country\n",
       "?                               583\n",
       "Cambodia                         19\n",
       "Canada                          121\n",
       "China                            75\n",
       "Columbia                         59\n",
       "Cuba                             95\n",
       "Dominican-Republic               70\n",
       "Ecuador                          28\n",
       "El-Salvador                     106\n",
       "England                          90\n",
       "France                           29\n",
       "Germany                         137\n",
       "Greece                           29\n",
       "Guatemala                        64\n",
       "Haiti                            44\n",
       "Holand-Netherlands                1\n",
       "Honduras                         13\n",
       "Hong                             20\n",
       "Hungary                          13\n",
       "India                           100\n",
       "Iran                             43\n",
       "Ireland                          24\n",
       "Italy                            73\n",
       "Jamaica                          81\n",
       "Japan                            62\n",
       "Laos                             18\n",
       "Mexico                          643\n",
       "Nicaragua                        34\n",
       "Outlying-US(Guam-USVI-etc)       14\n",
       "Peru                             31\n",
       "Philippines                     198\n",
       "Poland                           60\n",
       "Portugal                         37\n",
       "Puerto-Rico                     114\n",
       "Scotland                         12\n",
       "South                            80\n",
       "Taiwan                           51\n",
       "Thailand                         18\n",
       "Trinadad&Tobago                  19\n",
       "United-States                 29170\n",
       "Vietnam                          67\n",
       "Yugoslavia                       16\n",
       "Name: salary, dtype: int64"
      ]
     },
     "execution_count": 92,
     "metadata": {},
     "output_type": "execute_result"
    }
   ],
   "source": [
    "df.groupby('native-country')['salary'].count()"
   ]
  },
  {
   "cell_type": "code",
   "execution_count": 127,
   "id": "28c7ad0b-ff45-4a5e-95f7-04d0c9d1d3f5",
   "metadata": {},
   "outputs": [
    {
     "data": {
      "text/plain": [
       "41.9"
      ]
     },
     "execution_count": 127,
     "metadata": {},
     "output_type": "execute_result"
    }
   ],
   "source": [
    "salc = df[['native-country','salary']]\n",
    "salc_count = salc.groupby('native-country').count()\n",
    "richc_count = salc.loc[salc['salary'] == '>50K'].groupby('native-country').count()\n",
    "\n",
    "percs = round(100 * richc_count / salc_count, 1)\n",
    "richer_country = percs.sort_values(by=['salary'], ascending=False)\n",
    "highest_earning_country = richer_country.index.values[0]\n",
    "highest_earning_country_percentage = richer_country['salary'].head(1).values[0]\n"
   ]
  },
  {
   "cell_type": "code",
   "execution_count": 133,
   "id": "f0a1e201-9e9a-4f5a-8b10-61172de4291b",
   "metadata": {},
   "outputs": [
    {
     "data": {
      "text/plain": [
       "'Prof-specialty'"
      ]
     },
     "execution_count": 133,
     "metadata": {},
     "output_type": "execute_result"
    }
   ],
   "source": [
    "df.loc[df['native-country']=='India']['occupation'].value_counts().index.values[0]"
   ]
  },
  {
   "cell_type": "code",
   "execution_count": 138,
   "id": "2a1e650c-d066-4703-aff1-ebcdb5de6c4f",
   "metadata": {},
   "outputs": [
    {
     "data": {
      "text/plain": [
       "'Prof-specialty'"
      ]
     },
     "execution_count": 138,
     "metadata": {},
     "output_type": "execute_result"
    }
   ],
   "source": [
    "india = df.loc[df['native-country']=='India'][['occupation', 'salary']]\n",
    "india_rich = india.loc[india['salary'] == '>50K']\n",
    "india_rich['occupation'].value_counts().index.values[0]"
   ]
  }
 ],
 "metadata": {
  "kernelspec": {
   "display_name": "Python 3 (ipykernel)",
   "language": "python",
   "name": "python3"
  },
  "language_info": {
   "codemirror_mode": {
    "name": "ipython",
    "version": 3
   },
   "file_extension": ".py",
   "mimetype": "text/x-python",
   "name": "python",
   "nbconvert_exporter": "python",
   "pygments_lexer": "ipython3",
   "version": "3.9.1"
  }
 },
 "nbformat": 4,
 "nbformat_minor": 5
}
